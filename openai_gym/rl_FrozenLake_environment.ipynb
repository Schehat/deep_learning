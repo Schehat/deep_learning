{
  "nbformat": 4,
  "nbformat_minor": 2,
  "metadata": {
    "colab": {
      "name": "rl_FrozenLake_environment.ipynb",
      "provenance": [],
      "collapsed_sections": [],
      "toc_visible": true
    },
    "kernelspec": {
      "name": "python3",
      "display_name": "Python 3"
    },
    "language_info": {
      "name": "python"
    }
  },
  "cells": [
    {
      "cell_type": "code",
      "execution_count": 9,
      "source": [
        "import gym\r\n",
        "import numpy as np\r\n",
        "import time"
      ],
      "outputs": [],
      "metadata": {
        "id": "nqwdrAxywqj_"
      }
    },
    {
      "cell_type": "markdown",
      "source": [
        "##### FrozenLake environment\n",
        "- 16 states (one for each square)\n",
        "- 4 possible actions (LEFT, RIGHT, DOWN, UP)\n",
        "- 4 different types of blocks (F: frozen, H: hole, S: start, G: goal)"
      ],
      "metadata": {
        "id": "KtcXN4An6cWa"
      }
    },
    {
      "cell_type": "code",
      "execution_count": 3,
      "source": [
        "env = gym.make('FrozenLake-v0')  # we are going to use the FrozenLake enviornment"
      ],
      "outputs": [],
      "metadata": {
        "id": "76fpEesm5zfr"
      }
    },
    {
      "cell_type": "code",
      "execution_count": 4,
      "source": [
        "print(env.observation_space.n)   # get number of states\r\n",
        "print(env.action_space.n)   # get number of actions"
      ],
      "outputs": [
        {
          "output_type": "stream",
          "name": "stdout",
          "text": [
            "16\n",
            "4\n"
          ]
        }
      ],
      "metadata": {
        "colab": {
          "base_uri": "https://localhost:8080/"
        },
        "id": "tZ3rPsV16teq",
        "outputId": "4d81526d-e8f7-4af2-c688-dc80bf6001eb"
      }
    },
    {
      "cell_type": "code",
      "execution_count": 5,
      "source": [
        "env.reset()  # reset enviornment to default "
      ],
      "outputs": [
        {
          "output_type": "execute_result",
          "data": {
            "text/plain": [
              "0"
            ]
          },
          "metadata": {
            "tags": []
          },
          "execution_count": 5
        }
      ],
      "metadata": {
        "colab": {
          "base_uri": "https://localhost:8080/"
        },
        "id": "x9nEv4TG60IR",
        "outputId": "48277f8c-5b77-4e0e-eb56-2f9e0847e560"
      }
    },
    {
      "cell_type": "code",
      "execution_count": 6,
      "source": [
        "action = env.action_space.sample()  # get a random action "
      ],
      "outputs": [],
      "metadata": {
        "id": "Av2CpOgJ627h"
      }
    },
    {
      "cell_type": "code",
      "execution_count": 7,
      "source": [
        "new_state, reward, done, info = env.step(action)  # take action, notice it returns information about the action"
      ],
      "outputs": [],
      "metadata": {
        "id": "2EAbwq1Q64qV"
      }
    },
    {
      "cell_type": "code",
      "execution_count": 8,
      "source": [
        "env.render()   # render the GUI for the enviornment "
      ],
      "outputs": [
        {
          "output_type": "stream",
          "name": "stdout",
          "text": [
            "  (Down)\n",
            "SFFF\n",
            "\u001b[41mF\u001b[0mHFH\n",
            "FFFH\n",
            "HFFG\n"
          ]
        }
      ],
      "metadata": {
        "colab": {
          "base_uri": "https://localhost:8080/"
        },
        "id": "WuoDFs7j66Zx",
        "outputId": "f3f199c5-1b51-4d05-e264-cb0f7a1081eb"
      }
    },
    {
      "cell_type": "markdown",
      "source": [
        "##### building the Q-Table"
      ],
      "metadata": {
        "id": "mmQlsgCh7Lxc"
      }
    },
    {
      "cell_type": "code",
      "execution_count": 10,
      "source": [
        "env = gym.make('FrozenLake-v0')\n",
        "STATES = env.observation_space.n\n",
        "ACTIONS = env.action_space.n"
      ],
      "outputs": [],
      "metadata": {
        "id": "cUNgb3G-7N6c"
      }
    },
    {
      "cell_type": "code",
      "execution_count": null,
      "source": [
        "Q = np.zeros((STATES, ACTIONS))  # create a matrix with all 0 values \n",
        "Q"
      ],
      "outputs": [],
      "metadata": {
        "id": "q-TjSb8Y7pqF"
      }
    },
    {
      "cell_type": "markdown",
      "source": [
        "##### constants"
      ],
      "metadata": {
        "id": "jSJPXmUM7y1m"
      }
    },
    {
      "cell_type": "code",
      "execution_count": 13,
      "source": [
        "EPISODES = 2000 # how many times to run the enviornment from the beginning\n",
        "MAX_STEPS = 100  # max number of steps allowed for each run of enviornment\n",
        "\n",
        "LEARNING_RATE = 0.81  # learning rate\n",
        "GAMMA = 0.96"
      ],
      "outputs": [],
      "metadata": {
        "id": "IyteqZhG8GAo"
      }
    },
    {
      "cell_type": "markdown",
      "source": [
        "##### picking an action\n",
        "- would look like this"
      ],
      "metadata": {
        "id": "movhzrs68JIq"
      }
    },
    {
      "cell_type": "code",
      "execution_count": null,
      "source": [
        "epsilon = 0.9  # start with a 90% chance of picking a random action\n",
        "\n",
        "# code to pick action\n",
        "if np.random.uniform(0, 1) < epsilon:  # we will check if a randomly selected value is less than epsilon.\n",
        "    action = env.action_space.sample()  # take random action\n",
        "else:\n",
        "    action = np.argmax(Q[state, :])  # use Q table to pick best action based on current values"
      ],
      "outputs": [],
      "metadata": {
        "id": "A4K3tzOU8MJS"
      }
    },
    {
      "cell_type": "markdown",
      "source": [
        "##### updating Q-Values"
      ],
      "metadata": {
        "id": "SOXv-0nj8uy9"
      }
    },
    {
      "cell_type": "code",
      "execution_count": null,
      "source": [
        "Q[state, action] = Q[state, action] + LEARNING_RATE * (reward + GAMMA * np.max(Q[new_state, :]) - Q[state, action])"
      ],
      "outputs": [],
      "metadata": {
        "id": "-eMFa0G48-YU"
      }
    },
    {
      "cell_type": "markdown",
      "source": [
        "##### final program"
      ],
      "metadata": {
        "id": "CXVyvx_A9Hub"
      }
    },
    {
      "cell_type": "code",
      "execution_count": 25,
      "source": [
        "import gym\n",
        "import numpy as np\n",
        "import time\n",
        "\n",
        "env = gym.make('FrozenLake-v0')\n",
        "STATES = env.observation_space.n\n",
        "ACTIONS = env.action_space.n\n",
        "\n",
        "Q = np.zeros((STATES, ACTIONS))\n",
        "\n",
        "EPISODES = 10000 # how many times to run the enviornment from the beginning\n",
        "MAX_STEPS = 100  # max number of steps allowed for each run of enviornment\n",
        "\n",
        "LEARNING_RATE = 0.81  # learning rate\n",
        "GAMMA = 0.96\n",
        "\n",
        "RENDER = False # if you want to see training set to true\n",
        "\n",
        "epsilon = 0.9"
      ],
      "outputs": [],
      "metadata": {
        "id": "1yZ-hE1t9KXj"
      }
    },
    {
      "cell_type": "code",
      "execution_count": 26,
      "source": [
        "rewards = []\n",
        "for episode in range(EPISODES):\n",
        "\n",
        "  state = env.reset()\n",
        "  for _ in range(MAX_STEPS):\n",
        "    \n",
        "    if RENDER:\n",
        "      env.render()\n",
        "\n",
        "    if np.random.uniform(0, 1) < epsilon:\n",
        "      action = env.action_space.sample()  \n",
        "    else:\n",
        "      action = np.argmax(Q[state, :])\n",
        "\n",
        "    next_state, reward, done, _ = env.step(action)\n",
        "\n",
        "    Q[state, action] = Q[state, action] + LEARNING_RATE * (reward + GAMMA * np.max(Q[next_state, :]) - Q[state, action])\n",
        "\n",
        "    state = next_state\n",
        "\n",
        "    if done: \n",
        "      rewards.append(reward)\n",
        "      epsilon -= 0.001\n",
        "      break  # reached goal\n",
        "\n",
        "print(Q)\n",
        "print(f\"Average reward: {sum(rewards)/len(rewards)}:\")\n",
        "# and now we can see our Q values!"
      ],
      "outputs": [
        {
          "output_type": "stream",
          "name": "stdout",
          "text": [
            "[[3.42455857e-01 1.75296390e-02 2.09491076e-02 2.15692678e-02]\n",
            " [3.69890323e-03 7.49970539e-04 1.65886534e-02 2.25162084e-01]\n",
            " [8.55545310e-03 2.59861371e-01 7.06721728e-03 1.12997111e-02]\n",
            " [2.00449821e-03 5.72086661e-03 1.51496129e-03 1.08592803e-01]\n",
            " [5.19205585e-01 1.21063033e-02 8.90046862e-03 1.81474635e-04]\n",
            " [0.00000000e+00 0.00000000e+00 0.00000000e+00 0.00000000e+00]\n",
            " [1.74615739e-06 2.29342922e-01 6.26705074e-07 1.15402729e-07]\n",
            " [0.00000000e+00 0.00000000e+00 0.00000000e+00 0.00000000e+00]\n",
            " [1.18546053e-02 1.27708092e-02 7.17234515e-03 6.52394951e-01]\n",
            " [1.69553085e-03 6.49113059e-01 5.89227656e-03 3.57135175e-03]\n",
            " [7.99655574e-01 1.96728215e-04 8.61872308e-04 7.10692459e-04]\n",
            " [0.00000000e+00 0.00000000e+00 0.00000000e+00 0.00000000e+00]\n",
            " [0.00000000e+00 0.00000000e+00 0.00000000e+00 0.00000000e+00]\n",
            " [1.87456830e-02 1.90140385e-02 8.76760772e-01 2.85225074e-02]\n",
            " [9.11209092e-02 9.94390145e-01 9.07939041e-02 1.06826933e-01]\n",
            " [0.00000000e+00 0.00000000e+00 0.00000000e+00 0.00000000e+00]]\n",
            "Average reward: 0.6647:\n"
          ]
        }
      ],
      "metadata": {
        "colab": {
          "base_uri": "https://localhost:8080/"
        },
        "id": "nVeKsaui9UXg",
        "outputId": "f3b888c5-1189-4338-aaa9-086e1c2e1466"
      }
    },
    {
      "cell_type": "code",
      "execution_count": 27,
      "source": [
        "# we can plot the training progress and see how the agent improved\n",
        "import matplotlib.pyplot as plt\n",
        "\n",
        "def get_average(values):\n",
        "  return sum(values)/len(values)\n",
        "\n",
        "avg_rewards = []\n",
        "for i in range(0, len(rewards), 100):\n",
        "  avg_rewards.append(get_average(rewards[i:i+100])) \n",
        "\n",
        "plt.plot(avg_rewards)\n",
        "plt.ylabel('average reward')\n",
        "plt.xlabel('episodes (100\\'s)')\n",
        "plt.show()"
      ],
      "outputs": [
        {
          "output_type": "display_data",
          "data": {
            "image/png": "[encoded data removed]",
            "text/plain": [
              "<Figure size 432x288 with 1 Axes>"
            ]
          },
          "metadata": {
            "tags": [],
            "needs_background": "light"
          }
        }
      ],
      "metadata": {
        "colab": {
          "base_uri": "https://localhost:8080/",
          "height": 279
        },
        "id": "ViUMgt3Z97T2",
        "outputId": "d51f988e-8fd9-47a6-8fde-768f5759f7a5"
      }
    }
  ]
}