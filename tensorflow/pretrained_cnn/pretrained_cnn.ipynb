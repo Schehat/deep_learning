{
  "nbformat": 4,
  "nbformat_minor": 2,
  "metadata": {
    "colab": {
      "name": "pretrained_cnn.ipynb",
      "provenance": [],
      "collapsed_sections": [],
      "toc_visible": true
    },
    "kernelspec": {
      "name": "python3",
      "display_name": "Python 3"
    },
    "language_info": {
      "name": "python"
    }
  },
  "cells": [
    {
      "cell_type": "code",
      "execution_count": 1,
      "source": [
        "import matplotlib.pyplot as plt\r\n",
        "import tensorflow as tf\r\n",
        "import tensorflow_datasets as tfds"
      ],
      "outputs": [],
      "metadata": {
        "id": "FP06A1xbTHh9"
      }
    },
    {
      "cell_type": "markdown",
      "source": [
        "## import data"
      ],
      "metadata": {
        "id": "wD5jroJjTT2w"
      }
    },
    {
      "cell_type": "code",
      "execution_count": 64,
      "source": [
        "keras = tf.keras\r\n",
        "tfds.disable_progress_bar()\r\n",
        "\r\n",
        "# split the data manually into 80% training, 10% testing, 10% validation\r\n",
        "(raw_train, raw_validation, raw_test), metadata = tfds.load(\r\n",
        "    \"cats_vs_dogs\",\r\n",
        "    split=[\"train[:80%]\", \"train[80%:90%]\", \"train[90%:]\"],\r\n",
        "    with_info=True,\r\n",
        "    as_supervised=True,\r\n",
        ")"
      ],
      "outputs": [],
      "metadata": {
        "id": "H0jlCTgVTZdY"
      }
    },
    {
      "cell_type": "code",
      "execution_count": null,
      "source": [
        "get_label_name = metadata.features[\"label\"].int2str  # creates a function object that we can use to get labels\r\n",
        "\r\n",
        "# display 5 images from the dataset\r\n",
        "for image, label in raw_train.take(5):\r\n",
        "  plt.figure()\r\n",
        "  plt.imshow(image)\r\n",
        "  plt.title(get_label_name(label))"
      ],
      "outputs": [],
      "metadata": {
        "id": "Oue692dZTmVg"
      }
    },
    {
      "cell_type": "markdown",
      "source": [
        "## data preprocessing"
      ],
      "metadata": {
        "id": "CGO4LCKTVH9H"
      }
    },
    {
      "cell_type": "code",
      "execution_count": null,
      "source": [
        "IMG_SIZE = 160 # All images will be resized to 160x160\r\n",
        "\r\n",
        "def format_example(image, label):\r\n",
        "  \"\"\"\r\n",
        "  returns an image that is reshaped to IMG_SIZE\r\n",
        "  \"\"\"\r\n",
        "  image = tf.cast(image, tf.float32)\r\n",
        "  image = (image/255)\r\n",
        "  image = tf.image.resize(image, (IMG_SIZE, IMG_SIZE))\r\n",
        "  # also possible\r\n",
        "  \"\"\"\r\n",
        "  image = tf.image.convert_image_dtype(image, tf.float32) # equivalent to dividing image pixels by 255\r\n",
        "  image = tf.image.resize(image, (IMG_SIZE, IMG_SIZE)) # Resizing the image to 160x160 dimension\r\n",
        "  return image, label\r\n",
        "  \"\"\"\r\n",
        "  return image, label\r\n",
        "\r\n",
        "# map images to 160x160\r\n",
        "train = raw_train.map(format_example)\r\n",
        "validation = raw_validation.map(format_example)\r\n",
        "test = raw_test.map(format_example)\r\n",
        "\r\n",
        "for image, label in train.take(5):\r\n",
        "  plt.figure()\r\n",
        "  plt.imshow(image)\r\n",
        "  print(image.shape)\r\n",
        "  plt.title(get_label_name(label))"
      ],
      "outputs": [],
      "metadata": {
        "id": "q9PpWCOiVKzt"
      }
    },
    {
      "cell_type": "code",
      "execution_count": null,
      "source": [
        "# use data augmentation\r\n",
        "data_augmentation = tf.keras.Sequential([\r\n",
        "  tf.keras.layers.experimental.preprocessing.RandomFlip(\"horizontal\"),\r\n",
        "  tf.keras.layers.experimental.preprocessing.RandomRotation(0.2),\r\n",
        "])\r\n",
        "\r\n",
        "for image, label in raw_train.take(1):\r\n",
        "  plt.figure(figsize=(10, 10))\r\n",
        "  first_image = image\r\n",
        "  for i in range(9):\r\n",
        "    ax = plt.subplot(3, 3, i + 1)\r\n",
        "    augmented_image = data_augmentation(tf.expand_dims(first_image, 0))\r\n",
        "    print(augmented_image.shape)\r\n",
        "    plt.imshow(augmented_image[0])\r\n",
        "    plt.axis(\"off\")"
      ],
      "outputs": [],
      "metadata": {
        "id": "A8QNROE1KlMn"
      }
    },
    {
      "cell_type": "code",
      "execution_count": 72,
      "source": [
        "BATCH_SIZE = 32\r\n",
        "SHUFFLE_BUFFER_SIZE = 1000\r\n",
        "\r\n",
        "train_batches = train.shuffle(SHUFFLE_BUFFER_SIZE).batch(BATCH_SIZE)\r\n",
        "validation_batches = validation.batch(BATCH_SIZE)\r\n",
        "test_batches = test.batch(BATCH_SIZE)\r\n",
        "\r\n",
        "for img, label in raw_train.take(2):\r\n",
        "  print(\"Original shape:\", img.shape)\r\n",
        "\r\n",
        "for img, label in train.take(2):\r\n",
        "  print(\"New shape:\", img.shape)"
      ],
      "outputs": [
        {
          "output_type": "stream",
          "name": "stdout",
          "text": [
            "Original shape: (262, 350, 3)\n",
            "Original shape: (409, 336, 3)\n",
            "New shape: (160, 160, 3)\n",
            "New shape: (160, 160, 3)\n"
          ]
        }
      ],
      "metadata": {
        "id": "2BSV2_dkZ1VY",
        "colab": {
          "base_uri": "https://localhost:8080/"
        },
        "outputId": "bf61e580-09fb-4731-97e0-f664d11588be"
      }
    },
    {
      "cell_type": "markdown",
      "source": [
        "## pick pretrained model"
      ],
      "metadata": {
        "id": "GmaIWkdca_SU"
      }
    },
    {
      "cell_type": "code",
      "execution_count": null,
      "source": [
        "IMG_SHAPE = (IMG_SIZE, IMG_SIZE, 3)\r\n",
        "\r\n",
        "# Create the base model from the pre-trained model MobileNet V2\r\n",
        "base_model = tf.keras.applications.MobileNetV2(input_shape=IMG_SHAPE,\r\n",
        "                                               include_top=False,  # don't include the classifier from this model\r\n",
        "                                               weights=\"imagenet\")  # predetermined weights from a google data \r\n",
        "\r\n",
        "# feature extractor converts each 160x160x3 image into a 5x5x1280 block of features                                               \r\n",
        "base_model.summary()                                "
      ],
      "outputs": [],
      "metadata": {
        "id": "oeZSPvO-a-zy"
      }
    },
    {
      "cell_type": "code",
      "execution_count": 17,
      "source": [
        "# having 32 different layers of features\r\n",
        "for image, _ in train_batches.take(1):\r\n",
        "   pass\r\n",
        "\r\n",
        "feature_batch = base_model(image)\r\n",
        "print(feature_batch.shape)"
      ],
      "outputs": [
        {
          "output_type": "stream",
          "name": "stdout",
          "text": [
            "(32, 5, 5, 1280)\n"
          ]
        }
      ],
      "metadata": {
        "colab": {
          "base_uri": "https://localhost:8080/"
        },
        "id": "jP9Ew6YGclGD",
        "outputId": "611e3689-2e2f-4f74-e6be-6167267ebc4f"
      }
    },
    {
      "cell_type": "markdown",
      "source": [
        "## Freezing the Base"
      ],
      "metadata": {
        "id": "H16P_w6FdrEJ"
      }
    },
    {
      "cell_type": "code",
      "execution_count": null,
      "source": [
        "base_model.trainable = False\r\n",
        "# no trainable para. anymore\r\n",
        "base_model.summary()"
      ],
      "outputs": [],
      "metadata": {
        "id": "X9QxG-Jvdtpr"
      }
    },
    {
      "cell_type": "markdown",
      "source": [
        "## adding our classifier"
      ],
      "metadata": {
        "id": "H7mygwSfd0-B"
      }
    },
    {
      "cell_type": "code",
      "execution_count": null,
      "source": [
        "# flattens the (5, 5, 1280) tensor to a vector with 1280 elements\r\n",
        "global_average_layer = tf.keras.layers.GlobalAveragePooling2D()\r\n",
        "# output layer\r\n",
        "prediction_layer = keras.layers.Dense(1)\r\n",
        "\r\n",
        "# create combined model\r\n",
        "model = tf.keras.Sequential([\r\n",
        "  base_model,\r\n",
        "  global_average_layer,\r\n",
        "  prediction_layer\r\n",
        "])\r\n",
        "\r\n",
        "model.summary()"
      ],
      "outputs": [],
      "metadata": {
        "id": "HQMO_0nYfbEM"
      }
    },
    {
      "cell_type": "markdown",
      "source": [
        "## train no augmentation"
      ],
      "metadata": {
        "id": "ftyEnapbfznC"
      }
    },
    {
      "cell_type": "code",
      "execution_count": null,
      "source": [
        "base_learning_rate = 0.0001  # very small due to the cnn already in good shape\r\n",
        "model.compile(optimizer=tf.keras.optimizers.RMSprop(lr=base_learning_rate),\r\n",
        "              loss=tf.keras.losses.BinaryCrossentropy(from_logits=True),\r\n",
        "              metrics=[\"accuracy\"])\r\n",
        "\r\n",
        "# We can evaluate the model right now to see how it does before training it on our new images\r\n",
        "initial_epochs = 3\r\n",
        "validation_steps=20\r\n",
        "\r\n",
        "loss0,accuracy0 = model.evaluate(validation_batches, steps = validation_steps)"
      ],
      "outputs": [],
      "metadata": {
        "id": "uusTrycWf0iL"
      }
    },
    {
      "cell_type": "code",
      "execution_count": null,
      "source": [
        "# Now we can train it on our images\r\n",
        "history = model.fit(train_batches,\r\n",
        "                    epochs=initial_epochs,\r\n",
        "                    validation_data=validation_batches)\r\n",
        "\r\n",
        "acc = history.history[\"accuracy\"]\r\n",
        "(acc)"
      ],
      "outputs": [],
      "metadata": {
        "id": "pbiPsd-dmwFJ"
      }
    },
    {
      "cell_type": "markdown",
      "source": [
        "## train with augmentation\r\n",
        "* ### not so good"
      ],
      "metadata": {
        "id": "psP_jCBvWr7r"
      }
    },
    {
      "cell_type": "code",
      "execution_count": null,
      "source": [
        "# with data augmentation\r\n",
        "inputs = tf.keras.Input(shape=(160, 160, 3))\r\n",
        "x = data_augmentation(inputs)\r\n",
        "x = base_model(x, training=False)\r\n",
        "x = global_average_layer(x)\r\n",
        "x = tf.keras.layers.Dropout(0.2)(x)\r\n",
        "outputs = prediction_layer(x)\r\n",
        "model = tf.keras.Model(inputs, outputs)  # previous model overwritten\r\n",
        "\r\n",
        "base_learning_rate = 0.0001  # very small due to the cnn already in good shape\r\n",
        "model.compile(optimizer=tf.keras.optimizers.RMSprop(lr=base_learning_rate),\r\n",
        "              loss=tf.keras.losses.BinaryCrossentropy(from_logits=True),\r\n",
        "              metrics=[\"accuracy\"])\r\n",
        "\r\n",
        "history = model.fit(train_batches,\r\n",
        "                    epochs=initial_epochs,\r\n",
        "                    validation_data=validation_batches)"
      ],
      "outputs": [],
      "metadata": {
        "id": "W8YPQvhLUd98"
      }
    },
    {
      "cell_type": "code",
      "execution_count": 80,
      "source": [
        "acc = history.history[\"accuracy\"]\r\n",
        "(acc)\r\n",
        "\r\n",
        "# We can evaluate the model right now to see how it does before training it on our new images\r\n",
        "initial_epochs = 3\r\n",
        "validation_steps=20\r\n",
        "\r\n",
        "loss0,accuracy0 = model.evaluate(validation_batches, steps = validation_steps)"
      ],
      "outputs": [
        {
          "output_type": "stream",
          "name": "stdout",
          "text": [
            "20/20 [==============================] - 9s 417ms/step - loss: 0.0649 - accuracy: 0.9797\n"
          ]
        }
      ],
      "metadata": {
        "colab": {
          "base_uri": "https://localhost:8080/"
        },
        "id": "KLdRTx6HYikz",
        "outputId": "df7bedc6-18db-4a3c-d51a-6937c68e2fdd"
      }
    },
    {
      "cell_type": "code",
      "execution_count": 67,
      "source": [
        "acc = history.history[\"accuracy\"]\r\n",
        "val_acc = history.history[\"val_accuracy\"]\r\n",
        "\r\n",
        "loss = history.history[\"loss\"]\r\n",
        "val_loss = history.history[\"val_loss\"]\r\n",
        "\r\n",
        "plt.figure(figsize=(8, 8))\r\n",
        "plt.subplot(2, 1, 1)\r\n",
        "plt.plot(acc, label=\"Training Accuracy\")\r\n",
        "plt.plot(val_acc, label=\"Validation Accuracy\")\r\n",
        "plt.legend(loc=\"lower right\")\r\n",
        "plt.ylabel(\"Accuracy\")\r\n",
        "plt.ylim([min(plt.ylim()),1])\r\n",
        "plt.title(\"Training and Validation Accuracy\")\r\n",
        "\r\n",
        "plt.subplot(2, 1, 2)\r\n",
        "plt.plot(loss, label=\"Training Loss\")\r\n",
        "plt.plot(val_loss, label=\"Validation Loss\")\r\n",
        "plt.legend(loc=\"upper right\")\r\n",
        "plt.ylabel(\"Cross Entropy\")\r\n",
        "plt.ylim([0,1.0])\r\n",
        "plt.title(\"Training and Validation Loss\")\r\n",
        "plt.xlabel(\"epoch\")\r\n",
        "plt.show()"
      ],
      "outputs": [
        {
          "output_type": "display_data",
          "data": {
            "image/png": "[encoded data removed]",
            "text/plain": [
              "<Figure size 576x576 with 2 Axes>"
            ]
          },
          "metadata": {
            "tags": [],
            "needs_background": "light"
          }
        }
      ],
      "metadata": {
        "colab": {
          "base_uri": "https://localhost:8080/",
          "height": 513
        },
        "id": "_ey4ycEBS2oZ",
        "outputId": "bc0def17-42c2-4e99-8bee-59ed6dd7874c"
      }
    },
    {
      "cell_type": "markdown",
      "source": [
        "## save and load model"
      ],
      "metadata": {
        "id": "0pkzHTMnx3kw"
      }
    },
    {
      "cell_type": "code",
      "execution_count": null,
      "source": [
        "model.save(\"dog_vs_cat.h5\")\r\n",
        "new_model = tf.keras.models.load_model(\"dog_vs_cat.h5\")"
      ],
      "outputs": [],
      "metadata": {
        "id": "_yJ9mM3gx576"
      }
    },
    {
      "cell_type": "markdown",
      "source": [
        "## fine tuning"
      ],
      "metadata": {
        "id": "cHgZzC1UXr5V"
      }
    },
    {
      "cell_type": "code",
      "execution_count": 81,
      "source": [
        "base_model.trainable = True\r\n",
        "\r\n",
        "# Let's take a look to see how many layers are in the base model\r\n",
        "print(\"Number of layers in the base model: \", len(base_model.layers))\r\n",
        "\r\n",
        "# Fine-tune from this layer onwards\r\n",
        "fine_tune_at = 100\r\n",
        "\r\n",
        "# Freeze all the layers before the `fine_tune_at` layer\r\n",
        "for layer in base_model.layers[:fine_tune_at]:\r\n",
        "  layer.trainable =  False"
      ],
      "outputs": [
        {
          "output_type": "stream",
          "name": "stdout",
          "text": [
            "Number of layers in the base model:  154\n"
          ]
        }
      ],
      "metadata": {
        "colab": {
          "base_uri": "https://localhost:8080/"
        },
        "id": "AzdbU6AwbHgA",
        "outputId": "7e607192-e76d-4d53-c43c-9fd889b5ff89"
      }
    },
    {
      "cell_type": "markdown",
      "source": [
        "## compile"
      ],
      "metadata": {
        "id": "ND8_Xt4SbQg1"
      }
    },
    {
      "cell_type": "code",
      "execution_count": null,
      "source": [
        "model.compile(loss=tf.keras.losses.BinaryCrossentropy(from_logits=True),\r\n",
        "              optimizer = tf.keras.optimizers.RMSprop(lr=base_learning_rate/10),\r\n",
        "              metrics=[\"accuracy\"])\r\n",
        "model.summary()\r\n",
        "len(model.trainable_variables)  # why 56, not 55?"
      ],
      "outputs": [],
      "metadata": {
        "id": "UaSdSI3_bSNg"
      }
    },
    {
      "cell_type": "markdown",
      "source": [
        "## train"
      ],
      "metadata": {
        "id": "m2Qu1pWpdNcS"
      }
    },
    {
      "cell_type": "code",
      "execution_count": 88,
      "source": [
        "# this would take a hour\r\n",
        "fine_tune_epochs = 10\r\n",
        "total_epochs =  initial_epochs + fine_tune_epochs\r\n",
        "\r\n",
        "history_fine = model.fit(train_batches,\r\n",
        "                         epochs=total_epochs,\r\n",
        "                         initial_epoch=history.epoch[-1],\r\n",
        "                         validation_data=validation_batches)"
      ],
      "outputs": [
        {
          "output_type": "stream",
          "name": "stdout",
          "text": [
            "Epoch 3/13\n",
            "  9/582 [..............................] - ETA: 8:17 - loss: 0.1837 - accuracy: 0.9201"
          ]
        },
        {
          "output_type": "error",
          "ename": "KeyboardInterrupt",
          "evalue": "ignored",
          "traceback": [
            "\u001b[0;31m---------------------------------------------------------------------------\u001b[0m",
            "\u001b[0;31mKeyboardInterrupt\u001b[0m                         Traceback (most recent call last)",
            "\u001b[0;32m<ipython-input-88-1241020bb81f>\u001b[0m in \u001b[0;36m<module>\u001b[0;34m()\u001b[0m\n\u001b[1;32m      5\u001b[0m                          \u001b[0mepochs\u001b[0m\u001b[0;34m=\u001b[0m\u001b[0mtotal_epochs\u001b[0m\u001b[0;34m,\u001b[0m\u001b[0;34m\u001b[0m\u001b[0;34m\u001b[0m\u001b[0m\n\u001b[1;32m      6\u001b[0m                          \u001b[0minitial_epoch\u001b[0m\u001b[0;34m=\u001b[0m\u001b[0mhistory\u001b[0m\u001b[0;34m.\u001b[0m\u001b[0mepoch\u001b[0m\u001b[0;34m[\u001b[0m\u001b[0;34m-\u001b[0m\u001b[0;36m1\u001b[0m\u001b[0;34m]\u001b[0m\u001b[0;34m,\u001b[0m\u001b[0;34m\u001b[0m\u001b[0;34m\u001b[0m\u001b[0m\n\u001b[0;32m----> 7\u001b[0;31m                          validation_data=validation_batches)\n\u001b[0m",
            "\u001b[0;32m/usr/local/lib/python3.7/dist-packages/tensorflow/python/keras/engine/training.py\u001b[0m in \u001b[0;36mfit\u001b[0;34m(self, x, y, batch_size, epochs, verbose, callbacks, validation_split, validation_data, shuffle, class_weight, sample_weight, initial_epoch, steps_per_epoch, validation_steps, validation_batch_size, validation_freq, max_queue_size, workers, use_multiprocessing)\u001b[0m\n\u001b[1;32m   1181\u001b[0m                 _r=1):\n\u001b[1;32m   1182\u001b[0m               \u001b[0mcallbacks\u001b[0m\u001b[0;34m.\u001b[0m\u001b[0mon_train_batch_begin\u001b[0m\u001b[0;34m(\u001b[0m\u001b[0mstep\u001b[0m\u001b[0;34m)\u001b[0m\u001b[0;34m\u001b[0m\u001b[0;34m\u001b[0m\u001b[0m\n\u001b[0;32m-> 1183\u001b[0;31m               \u001b[0mtmp_logs\u001b[0m \u001b[0;34m=\u001b[0m \u001b[0mself\u001b[0m\u001b[0;34m.\u001b[0m\u001b[0mtrain_function\u001b[0m\u001b[0;34m(\u001b[0m\u001b[0miterator\u001b[0m\u001b[0;34m)\u001b[0m\u001b[0;34m\u001b[0m\u001b[0;34m\u001b[0m\u001b[0m\n\u001b[0m\u001b[1;32m   1184\u001b[0m               \u001b[0;32mif\u001b[0m \u001b[0mdata_handler\u001b[0m\u001b[0;34m.\u001b[0m\u001b[0mshould_sync\u001b[0m\u001b[0;34m:\u001b[0m\u001b[0;34m\u001b[0m\u001b[0;34m\u001b[0m\u001b[0m\n\u001b[1;32m   1185\u001b[0m                 \u001b[0mcontext\u001b[0m\u001b[0;34m.\u001b[0m\u001b[0masync_wait\u001b[0m\u001b[0;34m(\u001b[0m\u001b[0;34m)\u001b[0m\u001b[0;34m\u001b[0m\u001b[0;34m\u001b[0m\u001b[0m\n",
            "\u001b[0;32m/usr/local/lib/python3.7/dist-packages/tensorflow/python/eager/def_function.py\u001b[0m in \u001b[0;36m__call__\u001b[0;34m(self, *args, **kwds)\u001b[0m\n\u001b[1;32m    887\u001b[0m \u001b[0;34m\u001b[0m\u001b[0m\n\u001b[1;32m    888\u001b[0m       \u001b[0;32mwith\u001b[0m \u001b[0mOptionalXlaContext\u001b[0m\u001b[0;34m(\u001b[0m\u001b[0mself\u001b[0m\u001b[0;34m.\u001b[0m\u001b[0m_jit_compile\u001b[0m\u001b[0;34m)\u001b[0m\u001b[0;34m:\u001b[0m\u001b[0;34m\u001b[0m\u001b[0;34m\u001b[0m\u001b[0m\n\u001b[0;32m--> 889\u001b[0;31m         \u001b[0mresult\u001b[0m \u001b[0;34m=\u001b[0m \u001b[0mself\u001b[0m\u001b[0;34m.\u001b[0m\u001b[0m_call\u001b[0m\u001b[0;34m(\u001b[0m\u001b[0;34m*\u001b[0m\u001b[0margs\u001b[0m\u001b[0;34m,\u001b[0m \u001b[0;34m**\u001b[0m\u001b[0mkwds\u001b[0m\u001b[0;34m)\u001b[0m\u001b[0;34m\u001b[0m\u001b[0;34m\u001b[0m\u001b[0m\n\u001b[0m\u001b[1;32m    890\u001b[0m \u001b[0;34m\u001b[0m\u001b[0m\n\u001b[1;32m    891\u001b[0m       \u001b[0mnew_tracing_count\u001b[0m \u001b[0;34m=\u001b[0m \u001b[0mself\u001b[0m\u001b[0;34m.\u001b[0m\u001b[0mexperimental_get_tracing_count\u001b[0m\u001b[0;34m(\u001b[0m\u001b[0;34m)\u001b[0m\u001b[0;34m\u001b[0m\u001b[0;34m\u001b[0m\u001b[0m\n",
            "\u001b[0;32m/usr/local/lib/python3.7/dist-packages/tensorflow/python/eager/def_function.py\u001b[0m in \u001b[0;36m_call\u001b[0;34m(self, *args, **kwds)\u001b[0m\n\u001b[1;32m    915\u001b[0m       \u001b[0;31m# In this case we have created variables on the first call, so we run the\u001b[0m\u001b[0;34m\u001b[0m\u001b[0;34m\u001b[0m\u001b[0;34m\u001b[0m\u001b[0m\n\u001b[1;32m    916\u001b[0m       \u001b[0;31m# defunned version which is guaranteed to never create variables.\u001b[0m\u001b[0;34m\u001b[0m\u001b[0;34m\u001b[0m\u001b[0;34m\u001b[0m\u001b[0m\n\u001b[0;32m--> 917\u001b[0;31m       \u001b[0;32mreturn\u001b[0m \u001b[0mself\u001b[0m\u001b[0;34m.\u001b[0m\u001b[0m_stateless_fn\u001b[0m\u001b[0;34m(\u001b[0m\u001b[0;34m*\u001b[0m\u001b[0margs\u001b[0m\u001b[0;34m,\u001b[0m \u001b[0;34m**\u001b[0m\u001b[0mkwds\u001b[0m\u001b[0;34m)\u001b[0m  \u001b[0;31m# pylint: disable=not-callable\u001b[0m\u001b[0;34m\u001b[0m\u001b[0;34m\u001b[0m\u001b[0m\n\u001b[0m\u001b[1;32m    918\u001b[0m     \u001b[0;32melif\u001b[0m \u001b[0mself\u001b[0m\u001b[0;34m.\u001b[0m\u001b[0m_stateful_fn\u001b[0m \u001b[0;32mis\u001b[0m \u001b[0;32mnot\u001b[0m \u001b[0;32mNone\u001b[0m\u001b[0;34m:\u001b[0m\u001b[0;34m\u001b[0m\u001b[0;34m\u001b[0m\u001b[0m\n\u001b[1;32m    919\u001b[0m       \u001b[0;31m# Release the lock early so that multiple threads can perform the call\u001b[0m\u001b[0;34m\u001b[0m\u001b[0;34m\u001b[0m\u001b[0;34m\u001b[0m\u001b[0m\n",
            "\u001b[0;32m/usr/local/lib/python3.7/dist-packages/tensorflow/python/eager/function.py\u001b[0m in \u001b[0;36m__call__\u001b[0;34m(self, *args, **kwargs)\u001b[0m\n\u001b[1;32m   3022\u001b[0m        filtered_flat_args) = self._maybe_define_function(args, kwargs)\n\u001b[1;32m   3023\u001b[0m     return graph_function._call_flat(\n\u001b[0;32m-> 3024\u001b[0;31m         filtered_flat_args, captured_inputs=graph_function.captured_inputs)  # pylint: disable=protected-access\n\u001b[0m\u001b[1;32m   3025\u001b[0m \u001b[0;34m\u001b[0m\u001b[0m\n\u001b[1;32m   3026\u001b[0m   \u001b[0;34m@\u001b[0m\u001b[0mproperty\u001b[0m\u001b[0;34m\u001b[0m\u001b[0;34m\u001b[0m\u001b[0m\n",
            "\u001b[0;32m/usr/local/lib/python3.7/dist-packages/tensorflow/python/eager/function.py\u001b[0m in \u001b[0;36m_call_flat\u001b[0;34m(self, args, captured_inputs, cancellation_manager)\u001b[0m\n\u001b[1;32m   1959\u001b[0m       \u001b[0;31m# No tape is watching; skip to running the function.\u001b[0m\u001b[0;34m\u001b[0m\u001b[0;34m\u001b[0m\u001b[0;34m\u001b[0m\u001b[0m\n\u001b[1;32m   1960\u001b[0m       return self._build_call_outputs(self._inference_function.call(\n\u001b[0;32m-> 1961\u001b[0;31m           ctx, args, cancellation_manager=cancellation_manager))\n\u001b[0m\u001b[1;32m   1962\u001b[0m     forward_backward = self._select_forward_and_backward_functions(\n\u001b[1;32m   1963\u001b[0m         \u001b[0margs\u001b[0m\u001b[0;34m,\u001b[0m\u001b[0;34m\u001b[0m\u001b[0;34m\u001b[0m\u001b[0m\n",
            "\u001b[0;32m/usr/local/lib/python3.7/dist-packages/tensorflow/python/eager/function.py\u001b[0m in \u001b[0;36mcall\u001b[0;34m(self, ctx, args, cancellation_manager)\u001b[0m\n\u001b[1;32m    594\u001b[0m               \u001b[0minputs\u001b[0m\u001b[0;34m=\u001b[0m\u001b[0margs\u001b[0m\u001b[0;34m,\u001b[0m\u001b[0;34m\u001b[0m\u001b[0;34m\u001b[0m\u001b[0m\n\u001b[1;32m    595\u001b[0m               \u001b[0mattrs\u001b[0m\u001b[0;34m=\u001b[0m\u001b[0mattrs\u001b[0m\u001b[0;34m,\u001b[0m\u001b[0;34m\u001b[0m\u001b[0;34m\u001b[0m\u001b[0m\n\u001b[0;32m--> 596\u001b[0;31m               ctx=ctx)\n\u001b[0m\u001b[1;32m    597\u001b[0m         \u001b[0;32melse\u001b[0m\u001b[0;34m:\u001b[0m\u001b[0;34m\u001b[0m\u001b[0;34m\u001b[0m\u001b[0m\n\u001b[1;32m    598\u001b[0m           outputs = execute.execute_with_cancellation(\n",
            "\u001b[0;32m/usr/local/lib/python3.7/dist-packages/tensorflow/python/eager/execute.py\u001b[0m in \u001b[0;36mquick_execute\u001b[0;34m(op_name, num_outputs, inputs, attrs, ctx, name)\u001b[0m\n\u001b[1;32m     58\u001b[0m     \u001b[0mctx\u001b[0m\u001b[0;34m.\u001b[0m\u001b[0mensure_initialized\u001b[0m\u001b[0;34m(\u001b[0m\u001b[0;34m)\u001b[0m\u001b[0;34m\u001b[0m\u001b[0;34m\u001b[0m\u001b[0m\n\u001b[1;32m     59\u001b[0m     tensors = pywrap_tfe.TFE_Py_Execute(ctx._handle, device_name, op_name,\n\u001b[0;32m---> 60\u001b[0;31m                                         inputs, attrs, num_outputs)\n\u001b[0m\u001b[1;32m     61\u001b[0m   \u001b[0;32mexcept\u001b[0m \u001b[0mcore\u001b[0m\u001b[0;34m.\u001b[0m\u001b[0m_NotOkStatusException\u001b[0m \u001b[0;32mas\u001b[0m \u001b[0me\u001b[0m\u001b[0;34m:\u001b[0m\u001b[0;34m\u001b[0m\u001b[0;34m\u001b[0m\u001b[0m\n\u001b[1;32m     62\u001b[0m     \u001b[0;32mif\u001b[0m \u001b[0mname\u001b[0m \u001b[0;32mis\u001b[0m \u001b[0;32mnot\u001b[0m \u001b[0;32mNone\u001b[0m\u001b[0;34m:\u001b[0m\u001b[0;34m\u001b[0m\u001b[0;34m\u001b[0m\u001b[0m\n",
            "\u001b[0;31mKeyboardInterrupt\u001b[0m: "
          ]
        }
      ],
      "metadata": {
        "colab": {
          "base_uri": "https://localhost:8080/",
          "height": 391
        },
        "id": "NDna830kdayx",
        "outputId": "d776f1da-b29b-444a-db89-87eefd32766d"
      }
    },
    {
      "cell_type": "markdown",
      "source": [
        "## graph"
      ],
      "metadata": {
        "id": "qS_GPRY4dyR2"
      }
    },
    {
      "cell_type": "code",
      "execution_count": 89,
      "source": [
        "acc += history_fine.history[\"accuracy\"]\r\n",
        "val_acc += history_fine.history[\"val_accuracy\"]\r\n",
        "\r\n",
        "loss += history_fine.history[\"loss\"]\r\n",
        "val_loss += history_fine.history[\"val_loss\"]\r\n",
        "\r\n",
        "acc += history_fine.history[\"accuracy\"]\r\n",
        "val_acc += history_fine.history[\"val_accuracy\"]\r\n",
        "\r\n",
        "loss += history_fine.history[\"loss\"]\r\n",
        "val_loss += history_fine.history[\"val_loss\"]\r\n",
        "\r\n",
        "plt.figure(figsize=(8, 8))\r\n",
        "plt.subplot(2, 1, 1)\r\n",
        "plt.plot(acc, label=\"Training Accuracy\")\r\n",
        "plt.plot(val_acc, label=\"Validation Accuracy\")\r\n",
        "plt.ylim([0.8, 1])\r\n",
        "plt.plot([initial_epochs-1,initial_epochs-1],\r\n",
        "          plt.ylim(), label=\"Start Fine Tuning\")\r\n",
        "plt.legend(loc=\"lower right\")\r\n",
        "plt.title(\"Training and Validation Accuracy\")\r\n",
        "\r\n",
        "plt.subplot(2, 1, 2)\r\n",
        "plt.plot(loss, label=\"Training Loss\")\r\n",
        "plt.plot(val_loss, label=\"Validation Loss\")\r\n",
        "plt.ylim([0, 1.0])\r\n",
        "plt.plot([initial_epochs-1,initial_epochs-1],\r\n",
        "         plt.ylim(), label=\"Start Fine Tuning\")\r\n",
        "plt.legend(loc=\"upper right\")\r\n",
        "plt.title(\"Training and Validation Loss\")\r\n",
        "plt.xlabel(\"epoch\")\r\n",
        "plt.show()"
      ],
      "outputs": [
        {
          "output_type": "error",
          "ename": "NameError",
          "evalue": "ignored",
          "traceback": [
            "\u001b[0;31m---------------------------------------------------------------------------\u001b[0m",
            "\u001b[0;31mNameError\u001b[0m                                 Traceback (most recent call last)",
            "\u001b[0;32m<ipython-input-89-f2953ab0843a>\u001b[0m in \u001b[0;36m<module>\u001b[0;34m()\u001b[0m\n\u001b[0;32m----> 1\u001b[0;31m \u001b[0macc\u001b[0m \u001b[0;34m+=\u001b[0m \u001b[0mhistory_fine\u001b[0m\u001b[0;34m.\u001b[0m\u001b[0mhistory\u001b[0m\u001b[0;34m[\u001b[0m\u001b[0;34m'accuracy'\u001b[0m\u001b[0;34m]\u001b[0m\u001b[0;34m\u001b[0m\u001b[0;34m\u001b[0m\u001b[0m\n\u001b[0m\u001b[1;32m      2\u001b[0m \u001b[0mval_acc\u001b[0m \u001b[0;34m+=\u001b[0m \u001b[0mhistory_fine\u001b[0m\u001b[0;34m.\u001b[0m\u001b[0mhistory\u001b[0m\u001b[0;34m[\u001b[0m\u001b[0;34m'val_accuracy'\u001b[0m\u001b[0;34m]\u001b[0m\u001b[0;34m\u001b[0m\u001b[0;34m\u001b[0m\u001b[0m\n\u001b[1;32m      3\u001b[0m \u001b[0;34m\u001b[0m\u001b[0m\n\u001b[1;32m      4\u001b[0m \u001b[0mloss\u001b[0m \u001b[0;34m+=\u001b[0m \u001b[0mhistory_fine\u001b[0m\u001b[0;34m.\u001b[0m\u001b[0mhistory\u001b[0m\u001b[0;34m[\u001b[0m\u001b[0;34m'loss'\u001b[0m\u001b[0;34m]\u001b[0m\u001b[0;34m\u001b[0m\u001b[0;34m\u001b[0m\u001b[0m\n\u001b[1;32m      5\u001b[0m \u001b[0mval_loss\u001b[0m \u001b[0;34m+=\u001b[0m \u001b[0mhistory_fine\u001b[0m\u001b[0;34m.\u001b[0m\u001b[0mhistory\u001b[0m\u001b[0;34m[\u001b[0m\u001b[0;34m'val_loss'\u001b[0m\u001b[0;34m]\u001b[0m\u001b[0;34m\u001b[0m\u001b[0;34m\u001b[0m\u001b[0m\n",
            "\u001b[0;31mNameError\u001b[0m: name 'history_fine' is not defined"
          ]
        }
      ],
      "metadata": {
        "colab": {
          "base_uri": "https://localhost:8080/",
          "height": 231
        },
        "id": "Jh-8jpV5dzbU",
        "outputId": "de7364a3-9ebd-4ce8-eb2a-d1baf1f4384c"
      }
    }
  ]
}