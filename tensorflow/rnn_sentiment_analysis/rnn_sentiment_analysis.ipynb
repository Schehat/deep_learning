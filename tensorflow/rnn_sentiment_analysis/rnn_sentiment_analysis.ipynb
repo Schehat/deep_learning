{
  "nbformat": 4,
  "nbformat_minor": 2,
  "metadata": {
    "colab": {
      "name": "rnn_sentiment_analysis.ipynb",
      "provenance": [],
      "toc_visible": true
    },
    "kernelspec": {
      "name": "python3",
      "display_name": "Python 3"
    },
    "language_info": {
      "name": "python"
    },
    "accelerator": "GPU"
  },
  "cells": [
    {
      "cell_type": "code",
      "execution_count": null,
      "source": [
        "from keras.datasets import imdb\r\n",
        "from keras.preprocessing import sequence\r\n",
        "import keras\r\n",
        "import tensorflow as tf\r\n",
        "import numpy as np\r\n",
        "\r\n",
        "VOCAB_SIZE = 88584\r\n",
        "\r\n",
        "MAXLEN = 250\r\n",
        "BATCH_SIZE = 64\r\n",
        "\r\n",
        "(train_data, train_labels), (test_data, test_labels) = imdb.load_data(num_words = VOCAB_SIZE)"
      ],
      "outputs": [],
      "metadata": {
        "id": "ldhoVrKT1Zjb"
      }
    },
    {
      "cell_type": "code",
      "execution_count": null,
      "source": [
        "# look at one review\r\n",
        "print(train_data[1])\r\n",
        "# len different of each datapoint\r\n",
        "print(len(train_data[1]))"
      ],
      "outputs": [],
      "metadata": {
        "id": "FmKlmbzJ18wE"
      }
    },
    {
      "cell_type": "markdown",
      "source": [
        "## preprocessing"
      ],
      "metadata": {
        "id": "BcSW-fmE2nz_"
      }
    },
    {
      "cell_type": "code",
      "execution_count": null,
      "source": [
        "# left-sided padding to MAXLEN\r\n",
        "train_data = sequence.pad_sequences(train_data, MAXLEN)\r\n",
        "test_data = sequence.pad_sequences(test_data, MAXLEN)"
      ],
      "outputs": [],
      "metadata": {
        "id": "bsPDQ40_2pmW"
      }
    },
    {
      "cell_type": "markdown",
      "source": [
        "## creating the model"
      ],
      "metadata": {
        "id": "CO6zRDjP27oO"
      }
    },
    {
      "cell_type": "code",
      "execution_count": null,
      "source": [
        "model = tf.keras.Sequential([\r\n",
        "    tf.keras.layers.Embedding(VOCAB_SIZE, 32),\r\n",
        "    tf.keras.layers.LSTM(32),\r\n",
        "    tf.keras.layers.Dense(1, activation=\"sigmoid\")\r\n",
        "])\r\n",
        "\r\n",
        "model.summary()"
      ],
      "outputs": [],
      "metadata": {
        "id": "CqeIaVy62-Ey"
      }
    },
    {
      "cell_type": "markdown",
      "source": [
        "## training"
      ],
      "metadata": {
        "id": "kF7nzbfL3plU"
      }
    },
    {
      "cell_type": "code",
      "execution_count": null,
      "source": [
        "model.compile(loss=\"binary_crossentropy\",optimizer=\"rmsprop\",metrics=[\"acc\"])\r\n",
        "\r\n",
        "history = model.fit(train_data, train_labels, epochs=10, validation_split=0.2)"
      ],
      "outputs": [],
      "metadata": {
        "id": "HDzE4S4L3rgz"
      }
    },
    {
      "cell_type": "code",
      "execution_count": null,
      "source": [
        "results = model.evaluate(test_data, test_labels)\r\n",
        "print(results)"
      ],
      "outputs": [
        {
          "output_type": "stream",
          "name": "stdout",
          "text": [
            "782/782 [==============================] - 13s 16ms/step - loss: 0.4896 - acc: 0.8443\n",
            "[0.48960790038108826, 0.8442800045013428]\n"
          ]
        }
      ],
      "metadata": {
        "colab": {
          "base_uri": "https://localhost:8080/"
        },
        "id": "C_h2i4mJ4hUi",
        "outputId": "59d33400-76a3-4a01-a98d-03b0928d4ecb"
      }
    },
    {
      "cell_type": "markdown",
      "source": [
        "## prediction"
      ],
      "metadata": {
        "id": "6qMhCxMS4nLJ"
      }
    },
    {
      "cell_type": "markdown",
      "source": [
        "* ### encode"
      ],
      "metadata": {
        "id": "MjtKA6SU69Mi"
      }
    },
    {
      "cell_type": "code",
      "execution_count": null,
      "source": [
        "word_index = imdb.get_word_index()\r\n",
        "\r\n",
        "def encode_text(text):\r\n",
        "  tokens = keras.preprocessing.text.text_to_word_sequence(text)\r\n",
        "  tokens = [word_index[word] if word in word_index else 0 for word in tokens]\r\n",
        "  return sequence.pad_sequences([tokens], MAXLEN)[0]\r\n",
        "\r\n",
        "text = \"that movie was just amazing, so amazing\"\r\n",
        "encoded = encode_text(text)\r\n",
        "print(encoded)"
      ],
      "outputs": [],
      "metadata": {
        "id": "k3rp8wah4pGp"
      }
    },
    {
      "cell_type": "code",
      "execution_count": null,
      "source": [
        "word_index = imdb.get_word_index()\r\n",
        "print(word_index)"
      ],
      "outputs": [],
      "metadata": {
        "id": "6YMR7MBH7EBC"
      }
    },
    {
      "cell_type": "markdown",
      "source": [
        "* ### decode"
      ],
      "metadata": {
        "id": "BiT1RLJa-sYA"
      }
    },
    {
      "cell_type": "code",
      "execution_count": null,
      "source": [
        "reverse_word_index = {value: key for (key, value) in word_index.items()}\r\n",
        "\r\n",
        "def decode_integers(integers):\r\n",
        "    PAD = 0\r\n",
        "    text = \"\"\r\n",
        "    for num in integers:\r\n",
        "      if num != PAD:\r\n",
        "        text += reverse_word_index[num] + \" \"\r\n",
        "\r\n",
        "    return text[:-1]\r\n",
        "  \r\n",
        "print(decode_integers(encoded))"
      ],
      "outputs": [],
      "metadata": {
        "id": "M3Y1ePGG-w9g"
      }
    },
    {
      "cell_type": "markdown",
      "source": [
        "* ### predict"
      ],
      "metadata": {
        "id": "S94JGipY_QPP"
      }
    },
    {
      "cell_type": "code",
      "execution_count": null,
      "source": [
        "def predict(text):\r\n",
        "  encoded_text = encode_text(text)\r\n",
        "  pred = np.zeros((1,250))\r\n",
        "  pred[0] = encoded_text\r\n",
        "  result = model.predict(pred) \r\n",
        "  print(result[0])\r\n",
        "\r\n",
        "positive_review = \"That movie was! really loved it and would great watch it again because it was amazingly great\"\r\n",
        "predict(positive_review)\r\n",
        "\r\n",
        "negative_review = \"that movie really sucked. I hated it and wouldn't watch it again. Was one of the worst things I've ever watched\"\r\n",
        "predict(negative_review)"
      ],
      "outputs": [],
      "metadata": {
        "id": "PSH-OnDQ_U1O"
      }
    },
    {
      "cell_type": "markdown",
      "source": [
        "## save and load model"
      ],
      "metadata": {
        "id": "RSBnkrwDBaQk"
      }
    },
    {
      "cell_type": "code",
      "execution_count": null,
      "source": [
        "model.save(\"sentiment_analysis.h5\")\r\n",
        "new_model = tf.keras.models.load_model(\"sentiment_analysis.h5\")"
      ],
      "outputs": [],
      "metadata": {
        "id": "_yJ9mM3gx576"
      }
    }
  ]
}