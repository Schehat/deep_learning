{
  "nbformat": 4,
  "nbformat_minor": 2,
  "metadata": {
    "colab": {
      "name": "rnn_play_generator.ipynb",
      "private_outputs": true,
      "provenance": [],
      "collapsed_sections": [],
      "toc_visible": true
    },
    "kernelspec": {
      "name": "python3",
      "display_name": "Python 3"
    },
    "language_info": {
      "name": "python"
    },
    "accelerator": "GPU"
  },
  "cells": [
    {
      "cell_type": "code",
      "execution_count": null,
      "source": [
        "import tensorflow as tf\r\n",
        "import os\r\n",
        "import numpy as np"
      ],
      "outputs": [],
      "metadata": {
        "id": "eFPpbL-bCh31"
      }
    },
    {
      "cell_type": "markdown",
      "source": [
        "## data set"
      ],
      "metadata": {
        "id": "VRwEy-bkGNzE"
      }
    },
    {
      "cell_type": "code",
      "execution_count": null,
      "source": [
        "path_to_file = tf.keras.utils.get_file(\"shakespeare.txt\", \"https://storage.googleapis.com/download.tensorflow.org/data/shakespeare.txt\")"
      ],
      "outputs": [],
      "metadata": {
        "id": "DOHYDPVJGn-t"
      }
    },
    {
      "cell_type": "markdown",
      "source": [
        "## load own file"
      ],
      "metadata": {
        "id": "d7dhyl2sG75A"
      }
    },
    {
      "cell_type": "code",
      "execution_count": null,
      "source": [
        "#from google.colab import files\r\n",
        "#path_to_file = list(files.upload().keys())[0]"
      ],
      "outputs": [],
      "metadata": {
        "id": "_MW6fmqQG-hs"
      }
    },
    {
      "cell_type": "markdown",
      "source": [
        "## read contents of file"
      ],
      "metadata": {
        "id": "X2fbC-yNHEXo"
      }
    },
    {
      "cell_type": "code",
      "execution_count": null,
      "source": [
        "# Read, then decode for py2 compat.\r\n",
        "text = open(path_to_file, \"rb\").read().decode(encoding=\"utf-8\")\r\n",
        "# length of text is the number of characters in it\r\n",
        "print(\"Length of text: {} characters\".format(len(text)))"
      ],
      "outputs": [],
      "metadata": {
        "id": "S3yX9HhYHIP0"
      }
    },
    {
      "cell_type": "code",
      "execution_count": null,
      "source": [
        "# Take a look at the first 250 characters in text\r\n",
        "print(text[:250])"
      ],
      "outputs": [],
      "metadata": {
        "id": "k-NzkNtpHgjP"
      }
    },
    {
      "cell_type": "markdown",
      "source": [
        "## encoding"
      ],
      "metadata": {
        "id": "hyF_2z9gHm0f"
      }
    },
    {
      "cell_type": "code",
      "execution_count": null,
      "source": [
        "vocab = sorted(set(text))\r\n",
        "# Creating a mapping from unique characters to indices\r\n",
        "char2idx = {u:i for i, u in enumerate(vocab)}\r\n",
        "idx2char = np.array(vocab)\r\n",
        "\r\n",
        "def text_to_int(text):\r\n",
        "  return np.array([char2idx[c] for c in text])\r\n",
        "\r\n",
        "text_as_int = text_to_int(text)"
      ],
      "outputs": [],
      "metadata": {
        "id": "mZ4O-cR_JQMH"
      }
    },
    {
      "cell_type": "code",
      "execution_count": null,
      "source": [
        "# lets look at how part of our text is encoded\r\n",
        "print(\"Text:\", text[:13])\r\n",
        "print(\"Encoded:\", text_to_int(text[:13]))"
      ],
      "outputs": [],
      "metadata": {
        "id": "z8beAcJxJQqq"
      }
    },
    {
      "cell_type": "markdown",
      "source": [
        "## decode"
      ],
      "metadata": {
        "id": "bDrAeYGSKRXs"
      }
    },
    {
      "cell_type": "code",
      "execution_count": null,
      "source": [
        "def int_to_text(ints):\r\n",
        "  try:\r\n",
        "    ints = ints.numpy()\r\n",
        "  except:\r\n",
        "    pass\r\n",
        "  return \"\".join(idx2char[ints])\r\n",
        "\r\n",
        "print(int_to_text(text_as_int[:13]))"
      ],
      "outputs": [],
      "metadata": {
        "id": "dZUQAgmBKPIj"
      }
    },
    {
      "cell_type": "markdown",
      "source": [
        "## creating training examples\r\n",
        "* ### structure like this: input: Hell | output: ello. Offset by one "
      ],
      "metadata": {
        "id": "ak5V4fuRLsit"
      }
    },
    {
      "cell_type": "code",
      "execution_count": null,
      "source": [
        "seq_length = 100  # length of sequence for a training example\r\n",
        "examples_per_epoch = len(text)//(seq_length+1)\r\n",
        "\r\n",
        "# Create training examples / targets\r\n",
        "char_dataset = tf.data.Dataset.from_tensor_slices(text_as_int)"
      ],
      "outputs": [],
      "metadata": {
        "id": "45mIa2f6LuuX"
      }
    },
    {
      "cell_type": "code",
      "execution_count": null,
      "source": [
        "# turn this stream of characters into batches of desired length\r\n",
        "sequences = char_dataset.batch(seq_length+1, drop_remainder=True)"
      ],
      "outputs": [],
      "metadata": {
        "id": "-PUwGbKoM1-m"
      }
    },
    {
      "cell_type": "code",
      "execution_count": null,
      "source": [
        "def split_input_target(chunk):  # for the example: hello\r\n",
        "    input_text = chunk[:-1]  # hell\r\n",
        "    target_text = chunk[1:]  # ello\r\n",
        "    return input_text, target_text  # hell, ello\r\n",
        "\r\n",
        "dataset = sequences.map(split_input_target)  # we use map to apply the above function to every entry"
      ],
      "outputs": [],
      "metadata": {
        "id": "SPAuCmdKNTRu"
      }
    },
    {
      "cell_type": "code",
      "execution_count": null,
      "source": [
        "for x, y in dataset.take(2):\r\n",
        "  print(\"\\n\\nEXAMPLE\\n\")\r\n",
        "  print(\"INPUT\")\r\n",
        "  print(int_to_text(x))\r\n",
        "  print(\"\\nOUTPUT\")\r\n",
        "  print(int_to_text(y))"
      ],
      "outputs": [],
      "metadata": {
        "id": "tUQnMogINWCM"
      }
    },
    {
      "cell_type": "markdown",
      "source": [
        "## make training batches"
      ],
      "metadata": {
        "id": "l2QqQhGuNi7r"
      }
    },
    {
      "cell_type": "code",
      "execution_count": null,
      "source": [
        "BATCH_SIZE = 64\r\n",
        "VOCAB_SIZE = len(vocab)  # vocab is number of unique characters\r\n",
        "EMBEDDING_DIM = 256\r\n",
        "RNN_UNITS = 1024\r\n",
        "\r\n",
        "# Buffer size to shuffle the dataset\r\n",
        "# (TF data is designed to work with possibly infinite sequences,\r\n",
        "# so it doesn't attempt to shuffle the entire sequence in memory. Instead,\r\n",
        "# it maintains a buffer in which it shuffles elements).\r\n",
        "BUFFER_SIZE = 10000\r\n",
        "\r\n",
        "data = dataset.shuffle(BUFFER_SIZE).batch(BATCH_SIZE, drop_remainder=True)"
      ],
      "outputs": [],
      "metadata": {
        "id": "MHn9RXhFNlOg"
      }
    },
    {
      "cell_type": "markdown",
      "source": [
        "## build model"
      ],
      "metadata": {
        "id": "y6RqklG3OFx6"
      }
    },
    {
      "cell_type": "code",
      "execution_count": null,
      "source": [
        "def build_model(vocab_size, embedding_dim, rnn_units, batch_size):\r\n",
        "  model = tf.keras.Sequential([\r\n",
        "    tf.keras.layers.Embedding(vocab_size, embedding_dim,\r\n",
        "                              batch_input_shape=[batch_size, None]), # None due to when predict\r\n",
        "                                                                     # size of sentences unknown\r\n",
        "    tf.keras.layers.LSTM(rnn_units,\r\n",
        "                        return_sequences=True,\r\n",
        "                        stateful=True,\r\n",
        "                        recurrent_initializer=\"glorot_uniform\"),\r\n",
        "    tf.keras.layers.Dense(vocab_size)\r\n",
        "  ])\r\n",
        "  return model\r\n",
        "\r\n",
        "model = build_model(VOCAB_SIZE,EMBEDDING_DIM, RNN_UNITS, BATCH_SIZE)\r\n",
        "model.summary()"
      ],
      "outputs": [],
      "metadata": {
        "id": "vszqiQtAOHSF"
      }
    },
    {
      "cell_type": "markdown",
      "source": [
        "## create loss function"
      ],
      "metadata": {
        "id": "ltp2qIzmPlEg"
      }
    },
    {
      "cell_type": "code",
      "execution_count": null,
      "source": [
        "for input_example_batch, target_example_batch in data.take(1):\r\n",
        "  # ask our model for a prediction on our first batch of training data (64 entries)\r\n",
        "  example_batch_predictions = model(input_example_batch)\r\n",
        "  # print out the output shape\r\n",
        "  print(example_batch_predictions.shape, \"# (batch_size, sequence_length, vocab_size)\")"
      ],
      "outputs": [],
      "metadata": {
        "id": "3Wb0M4wSQ_U1"
      }
    },
    {
      "cell_type": "code",
      "execution_count": null,
      "source": [
        "# we can see that the prediction is an array of 64 arrays, one for each entry in the batch\r\n",
        "print(len(example_batch_predictions))\r\n",
        "print(example_batch_predictions)"
      ],
      "outputs": [],
      "metadata": {
        "id": "j_uGB1GJSfBI"
      }
    },
    {
      "cell_type": "code",
      "execution_count": null,
      "source": [
        "# lets examine one prediction\r\n",
        "pred = example_batch_predictions[0]\r\n",
        "print(len(pred))\r\n",
        "print(pred)\r\n",
        "# notice this is a 2d array of length 100, where each interior array\r\n",
        "# is the prediction for the next character at each time step"
      ],
      "outputs": [],
      "metadata": {
        "id": "i5JqaLxbSiMS"
      }
    },
    {
      "cell_type": "code",
      "execution_count": null,
      "source": [
        "# and finally well look at a prediction at the first timestep\r\n",
        "time_pred = pred[0]\r\n",
        "print(len(time_pred))\r\n",
        "print(time_pred)\r\n",
        "# and of course its 65 values representing the probability of each character occuring next"
      ],
      "outputs": [],
      "metadata": {
        "id": "yJ6aC5aFSv0Z"
      }
    },
    {
      "cell_type": "code",
      "execution_count": null,
      "source": [
        "# If we want to determine the predicted character we need to sample the output \r\n",
        "# distribution (pick a value based on probability)\r\n",
        "sampled_indices = tf.random.categorical(pred, num_samples=1)\r\n",
        "\r\n",
        "# now we can reshape that array and convert all the integers to numbers to see the actual characters\r\n",
        "sampled_indices = np.reshape(sampled_indices, (1, -1))[0]\r\n",
        "predicted_chars = int_to_text(sampled_indices)\r\n",
        "\r\n",
        "predicted_chars  # and this is what the model predicted for training sequence 1"
      ],
      "outputs": [],
      "metadata": {
        "id": "f7PeZ4IUVoly"
      }
    },
    {
      "cell_type": "code",
      "execution_count": null,
      "source": [
        "def loss(labels, logits):\r\n",
        "  return tf.keras.losses.sparse_categorical_crossentropy(labels, logits, from_logits=True)"
      ],
      "outputs": [],
      "metadata": {
        "id": "stFROYkAWIUV"
      }
    },
    {
      "cell_type": "markdown",
      "source": [
        "## compile model"
      ],
      "metadata": {
        "id": "ojk03xNZWNbP"
      }
    },
    {
      "cell_type": "code",
      "execution_count": null,
      "source": [
        "model.compile(optimizer=\"adam\", loss=loss)"
      ],
      "outputs": [],
      "metadata": {
        "id": "Ns_iR2lKWMop"
      }
    },
    {
      "cell_type": "markdown",
      "source": [
        "## creating checkpoints"
      ],
      "metadata": {
        "id": "U_2aqYycWVuD"
      }
    },
    {
      "cell_type": "code",
      "execution_count": null,
      "source": [
        "# Directory where the checkpoints will be saved\r\n",
        "checkpoint_dir = \"./training_checkpoints\"\r\n",
        "# Name of the checkpoint files\r\n",
        "checkpoint_prefix = os.path.join(checkpoint_dir, \"ckpt_{epoch}\")\r\n",
        "\r\n",
        "checkpoint_callback=tf.keras.callbacks.ModelCheckpoint(\r\n",
        "    filepath=checkpoint_prefix,\r\n",
        "    save_weights_only=True)"
      ],
      "outputs": [],
      "metadata": {
        "id": "2dXIqL3MWXq9"
      }
    },
    {
      "cell_type": "markdown",
      "source": [
        "## training"
      ],
      "metadata": {
        "id": "v0c_nIT6WidD"
      }
    },
    {
      "cell_type": "code",
      "execution_count": null,
      "source": [
        "history = model.fit(data, epochs=50, callbacks=[checkpoint_callback])"
      ],
      "outputs": [],
      "metadata": {
        "id": "SVzH7LBOWjZs"
      }
    },
    {
      "cell_type": "markdown",
      "source": [
        "## load model"
      ],
      "metadata": {
        "id": "ksaAsA0QY_hm"
      }
    },
    {
      "cell_type": "code",
      "execution_count": null,
      "source": [
        "# difference is batch_size to only give 1 phrase for prediction\r\n",
        "model = build_model(VOCAB_SIZE, EMBEDDING_DIM, RNN_UNITS, batch_size=1)\r\n",
        "\r\n",
        "# load from latest saved checkpoint \r\n",
        "model.load_weights(tf.train.latest_checkpoint(checkpoint_dir))\r\n",
        "model.build(tf.TensorShape([1, None]))\r\n",
        "\r\n",
        "\"\"\" to load any checkpoint e.g. 10\r\n",
        "  checkpoint_num = 10\r\n",
        "  model.load_weights(tf.train.load_checkpoint(\"./training_checkpoints/ckpt_\" + str(checkpoint_num)))\r\n",
        "  model.build(tf.TensorShape([1, None]))\r\n",
        "\"\"\""
      ],
      "outputs": [],
      "metadata": {
        "id": "ckdRE3QIZEaK"
      }
    },
    {
      "cell_type": "markdown",
      "source": [
        "## generating text"
      ],
      "metadata": {
        "id": "7nDqnAuacMcw"
      }
    },
    {
      "cell_type": "code",
      "execution_count": null,
      "source": [
        "def generate_text(model, start_string):\r\n",
        "  # Evaluation step (generating text using the learned model)\r\n",
        "\r\n",
        "  # Number of characters to generate\r\n",
        "  num_generate = 800\r\n",
        "\r\n",
        "  # Converting our start string to numbers (vectoring)\r\n",
        "  input_eval = [char2idx[s] for s in start_string]\r\n",
        "  input_eval = tf.expand_dims(input_eval, 0)\r\n",
        "\r\n",
        "  # Empty string to store our results\r\n",
        "  text_generated = []\r\n",
        "\r\n",
        "  # Low temperatures results in more predictable text.\r\n",
        "  # Higher temperatures results in more surprising text.\r\n",
        "  # Experiment to find the best setting.\r\n",
        "  temperature = 1.0\r\n",
        "\r\n",
        "  # Here batch size == 1\r\n",
        "  model.reset_states()  # after training model needs to be resetted (idk why)\r\n",
        "  for i in range(num_generate):\r\n",
        "      predictions = model(input_eval)\r\n",
        "      \r\n",
        "      # remove the batch dimension\r\n",
        "      predictions = tf.squeeze(predictions, 0)\r\n",
        "\r\n",
        "      # using a categorical distribution to predict the character returned by the model\r\n",
        "      predictions = predictions / temperature\r\n",
        "      predicted_id = tf.random.categorical(predictions, num_samples=1)[-1,0].numpy()\r\n",
        "\r\n",
        "      # We pass the predicted character as the next input to the model\r\n",
        "      # along with the previous hidden state\r\n",
        "      input_eval = tf.expand_dims([predicted_id], 0)\r\n",
        "\r\n",
        "      text_generated.append(idx2char[predicted_id])\r\n",
        "\r\n",
        "  return (start_string + \"\".join(text_generated))"
      ],
      "outputs": [],
      "metadata": {
        "id": "tpPxeBljcVuv"
      }
    },
    {
      "cell_type": "code",
      "execution_count": null,
      "source": [
        "inp = input(\"Type a starting string: \")\r\n",
        "print(generate_text(model, inp))"
      ],
      "outputs": [],
      "metadata": {
        "id": "83fnzLZTczgb"
      }
    },
    {
      "cell_type": "markdown",
      "source": [
        "## save model - final\r\n",
        "\r\n"
      ],
      "metadata": {
        "id": "To9t8sgGfDKe"
      }
    },
    {
      "cell_type": "code",
      "execution_count": null,
      "source": [
        "model.save(\"play_generator.h5\")\r\n",
        "new_model = tf.keras.models.load_model(\"play_generator.h5\")"
      ],
      "outputs": [],
      "metadata": {
        "id": "bwvWCzqde02g"
      }
    }
  ]
}