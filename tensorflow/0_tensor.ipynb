{
  "nbformat": 4,
  "nbformat_minor": 2,
  "metadata": {
    "colab": {
      "name": "tensor.ipynb",
      "provenance": [],
      "collapsed_sections": []
    },
    "kernelspec": {
      "name": "python3",
      "display_name": "Python 3"
    },
    "language_info": {
      "name": "python"
    }
  },
  "cells": [
    {
      "cell_type": "code",
      "execution_count": null,
      "source": [
        "%tensorflow_version 2.x  # required in google colab\r\n",
        "\r\n",
        "import tensorflow as tf\r\n",
        "print(tf.version)"
      ],
      "outputs": [],
      "metadata": {
        "id": "eekoCkvZSL5u"
      }
    },
    {
      "cell_type": "markdown",
      "source": [
        "## create tensor"
      ],
      "metadata": {
        "id": "PZECUy2OUyz1"
      }
    },
    {
      "cell_type": "code",
      "execution_count": 12,
      "source": [
        "# 2nd parameter not required\r\n",
        "string = tf.Variable(\"this is a string\", tf.string)\r\n",
        "number = tf.Variable(128)\r\n",
        "fraction = tf.Variable(12.12421, tf.float16)"
      ],
      "outputs": [],
      "metadata": {
        "id": "gj3_5rnNU4Wk"
      }
    },
    {
      "cell_type": "markdown",
      "source": [
        "## rank of tensors"
      ],
      "metadata": {
        "id": "-Z_ScSd_VkZn"
      }
    },
    {
      "cell_type": "code",
      "execution_count": null,
      "source": [
        "rank1 = tf.Variable([\"test\"])\r\n",
        "rank2 = tf.Variable([[\"this\", \"is\"], [\"rank\", \"two\"]])\r\n",
        "rank3 = tf.Variable([[[\"this\", \"this\"], [\"is\", \"is\"], [\"three\", \"three\"]]])\r\n",
        "\r\n",
        "# print rank\r\n",
        "print(tf.rank(string))\r\n",
        "print(tf.rank(rank1))\r\n",
        "print(tf.rank(rank2))\r\n",
        "print(tf.rank(rank3))"
      ],
      "outputs": [],
      "metadata": {
        "id": "ni13bPrFV3tz"
      }
    },
    {
      "cell_type": "markdown",
      "source": [
        "## shape of tensors"
      ],
      "metadata": {
        "id": "SAboU1oFXJ78"
      }
    },
    {
      "cell_type": "code",
      "execution_count": null,
      "source": [
        "print(string.shape)\r\n",
        "print(rank1.shape)\r\n",
        "print(rank2.shape)\r\n",
        "print(rank3.shape)"
      ],
      "outputs": [],
      "metadata": {
        "id": "ooZoOdG9XLWO"
      }
    },
    {
      "cell_type": "markdown",
      "source": [
        "## changing shape"
      ],
      "metadata": {
        "id": "LAFmGKjLagfp"
      }
    },
    {
      "cell_type": "code",
      "execution_count": null,
      "source": [
        "# product of dimensions is the number of elements\r\n",
        "tensor1 = tf.ones([1, 2, 3])  # creates a shape [1, 2, 3] with full of 1's\r\n",
        "tensor2 = tf.reshape(tensor1, [2, 3, 1])  # reshape into [2, 3, 1]\r\n",
        "tensor3 = tf.reshape(tensor2, [3, -1])  # -1 means to calcultate the size of this dimentsion\r\n",
        "                                        # in this case [3, 2]\r\n",
        "print(tensor1)\r\n",
        "print(tensor2)\r\n",
        "print(tensor3)"
      ],
      "outputs": [],
      "metadata": {
        "id": "KxNk_H-caiEg"
      }
    },
    {
      "cell_type": "markdown",
      "source": [
        "## slicing tensors"
      ],
      "metadata": {
        "id": "TTKnK3mDdZ9f"
      }
    },
    {
      "cell_type": "code",
      "execution_count": null,
      "source": [
        "# Creating a 2D tensor\r\n",
        "matrix = [[1,2,3,4,5],\r\n",
        "          [6,7,8,9,10],\r\n",
        "          [11,12,13,14,15],\r\n",
        "          [16,17,18,19,20]]\r\n",
        "\r\n",
        "tensor = tf.Variable(matrix, dtype=tf.int32) \r\n",
        "print(tf.rank(tensor))\r\n",
        "print(tensor.shape)\r\n",
        "\r\n",
        "print(tensor[0, 2])  # select 1st list and 3rd element (index 2)\r\n",
        "print(tensor[0])  # select 1st list\r\n",
        "print(tensor[:, 0])  # select 1st column\r\n",
        "print(tensor[1::2])  # start 2nd element and jump-size 2, selects rows 1, 3"
      ],
      "outputs": [],
      "metadata": {
        "id": "mtpvjLlGdb3G"
      }
    },
    {
      "cell_type": "markdown",
      "source": [
        "## variables\r\n",
        " * ### 4 different types of data types exists\r\n",
        " * ### variable, constant, placeholder, sparsetensor\r\n",
        " * ### all except variable are immutable"
      ],
      "metadata": {
        "id": "a4pBaAjsgw5N"
      }
    },
    {
      "cell_type": "markdown",
      "source": [
        "## evalutating tensors\r\n",
        "* ### when evaluating tensors, running session is required so that the graph is executed and the tensor has values"
      ],
      "metadata": {
        "id": "dXaey8qshH13"
      }
    }
  ]
}